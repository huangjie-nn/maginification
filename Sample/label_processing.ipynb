{
 "cells": [
  {
   "cell_type": "code",
   "execution_count": 1,
   "metadata": {},
   "outputs": [],
   "source": [
    "#label processing\n",
    "import glob\n",
    "import re\n",
    "\n",
    "def create_label_and_reference(label_file_name):\n",
    "    labels={}\n",
    "    refs={}\n",
    "    with open(label_file_name,'r') as f:\n",
    "\n",
    "        for line in f.readlines():\n",
    "\n",
    "            tokens=line.split(\"\\t\")\n",
    "\n",
    "\n",
    "            if any(i.isdigit() for i in tokens[0]) :     \n",
    "                if any(i.isdigit() for i in tokens[1]):\n",
    "                \n",
    "                    labels[float(tokens[0])]=float(tokens[1].strip(\"\\n\"))\n",
    "                else:\n",
    "                    labels[float(tokens[0])]=float(-999999)\n",
    "                refs[float(tokens[0])] = float(tokens[0].strip(\"\\n\"))\n",
    "    print(\"create label done.\")\n",
    "    return labels,refs\n",
    "     \n"
   ]
  },
  {
   "cell_type": "code",
   "execution_count": 2,
   "metadata": {},
   "outputs": [
    {
     "name": "stdout",
     "output_type": "stream",
     "text": [
      "create label done.\n",
      "all done\n",
      "Wall time: 18min 11s\n"
     ]
    }
   ],
   "source": [
    "import cv2\n",
    "import random\n",
    "import glob\n",
    "import numpy as np\n",
    "from sortedcontainers import SortedDict\n",
    "\n",
    "def create_image_and_label(image_path,image_size):\n",
    "\n",
    "\n",
    "    data_root=image_path\n",
    "    dic,references=create_label_and_reference(\"label_summary.txt\")\n",
    "    \n",
    "\n",
    "    path=data_root+'\\*jpeg'\n",
    "    filenames=glob.glob(path)\n",
    "    \n",
    "    random.shuffle(filenames)\n",
    "    labels=[]\n",
    "    datas=[]\n",
    "    refs=[]\n",
    "    count=0          \n",
    "    for name in filenames:\n",
    "        key_value=float(name.rsplit('_')[-1].strip(\".jpeg\"))\n",
    "        if key_value in dic:\n",
    "            labels.append((dic[key_value]))\n",
    "            refs.append((references[key_value]))  \n",
    "        else:\n",
    "            res =  dic[min(dic.keys(), key = lambda key: abs(key-key_value))] \n",
    "            labels.append(res)\n",
    "            pos=min(dic.keys(), key = lambda key: abs(key-key_value))\n",
    "            refs.append(pos)\n",
    "        datas.append(cv2.imread(name,cv2.IMREAD_COLOR))    \n",
    "\n",
    "    datas=np.array(datas).reshape(-1,image_size,image_size,3)\n",
    "    print(\"all done\")\n",
    "    return datas,labels,refs\n",
    "\n",
    "%time datas,labels,refs=create_image_and_label(\"all\",224)\n"
   ]
  },
  {
   "cell_type": "code",
   "execution_count": 10,
   "metadata": {},
   "outputs": [
    {
     "name": "stdout",
     "output_type": "stream",
     "text": [
      "1.495272 10341.0\n"
     ]
    }
   ],
   "source": [
    "print(labels[0],refs[0])"
   ]
  },
  {
   "cell_type": "code",
   "execution_count": null,
   "metadata": {},
   "outputs": [],
   "source": [
    "#trying out pickle to save datas and labels\n",
    "import pickle\n",
    "\n",
    "\n",
    "pickle_out=open(\"datas.pickle\",\"wb\")\n",
    "pickle.dump(datas,pickle_out)\n",
    "\n",
    "pickle_out.close()\n",
    "\n",
    "pickle_out=open(\"labels.pickle\",\"wb\")\n",
    "pickle.dump(labels,pickle_out)\n",
    "\n",
    "pickle_out.close()\n",
    "\n",
    "pickle_out=open(\"refs.pickle\",\"wb\")\n",
    "pickle.dump(refs,pickle_out)\n",
    "\n",
    "pickle_out.close()\n",
    "\n",
    "\n",
    "\n",
    "\n"
   ]
  },
  {
   "cell_type": "code",
   "execution_count": 20,
   "metadata": {
    "collapsed": true
   },
   "outputs": [
    {
     "name": "stdout",
     "output_type": "stream",
     "text": [
      "(32, 32, 1)\n",
      "62909\n",
      "[[[131]\n",
      "  [110]\n",
      "  [112]\n",
      "  ...\n",
      "  [110]\n",
      "  [ 73]\n",
      "  [ 88]]\n",
      "\n",
      " [[ 69]\n",
      "  [119]\n",
      "  [ 81]\n",
      "  ...\n",
      "  [148]\n",
      "  [107]\n",
      "  [125]]\n",
      "\n",
      " [[168]\n",
      "  [101]\n",
      "  [154]\n",
      "  ...\n",
      "  [125]\n",
      "  [120]\n",
      "  [ 68]]\n",
      "\n",
      " ...\n",
      "\n",
      " [[110]\n",
      "  [115]\n",
      "  [147]\n",
      "  ...\n",
      "  [143]\n",
      "  [124]\n",
      "  [ 71]]\n",
      "\n",
      " [[139]\n",
      "  [112]\n",
      "  [160]\n",
      "  ...\n",
      "  [108]\n",
      "  [125]\n",
      "  [119]]\n",
      "\n",
      " [[ 96]\n",
      "  [129]\n",
      "  [ 92]\n",
      "  ...\n",
      "  [ 80]\n",
      "  [120]\n",
      "  [105]]]\n"
     ]
    }
   ],
   "source": [
    "import matplotlib.pyplot as plt\n",
    "\n",
    "pickle_in=open(\"datas.pickle\",\"rb\")\n",
    "X=pickle.load(pickle_in)\n",
    "\n",
    "pickle_in=open(\"labels.pickle\",\"rb\")\n",
    "y=pickle.load(pickle_in)\n",
    "\n",
    "print(X[0].shape)\n",
    "print(len(y))\n",
    "\n",
    "\n",
    "print(X[0])"
   ]
  }
 ],
 "metadata": {
  "kernelspec": {
   "display_name": "Python 3",
   "language": "python",
   "name": "python3"
  },
  "language_info": {
   "codemirror_mode": {
    "name": "ipython",
    "version": 3
   },
   "file_extension": ".py",
   "mimetype": "text/x-python",
   "name": "python",
   "nbconvert_exporter": "python",
   "pygments_lexer": "ipython3",
   "version": "3.7.3"
  }
 },
 "nbformat": 4,
 "nbformat_minor": 2
}
